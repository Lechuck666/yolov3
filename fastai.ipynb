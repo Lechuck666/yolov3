{
 "cells": [
  {
   "cell_type": "code",
   "execution_count": 1,
   "metadata": {
    "pycharm": {
     "is_executing": false,
     "name": "#%%\n"
    }
   },
   "outputs": [
    {
     "ename": "ModuleNotFoundError",
     "evalue": "No module named 'fastai.vision'; 'fastai' is not a package",
     "output_type": "error",
     "traceback": [
      "\u001b[0;31m---------------------------------------------------------------------------\u001b[0m",
      "\u001b[0;31mModuleNotFoundError\u001b[0m                       Traceback (most recent call last)",
      "\u001b[0;32m<ipython-input-1-f23daf423200>\u001b[0m in \u001b[0;36m<module>\u001b[0;34m\u001b[0m\n\u001b[0;32m----> 1\u001b[0;31m \u001b[0;32mfrom\u001b[0m \u001b[0mfastai\u001b[0m\u001b[0;34m.\u001b[0m\u001b[0mvision\u001b[0m \u001b[0;32mimport\u001b[0m \u001b[0;34m*\u001b[0m\u001b[0;34m\u001b[0m\u001b[0;34m\u001b[0m\u001b[0m\n\u001b[0m\u001b[1;32m      2\u001b[0m \u001b[0;32mfrom\u001b[0m \u001b[0mmodels\u001b[0m \u001b[0;32mimport\u001b[0m \u001b[0mDarknet\u001b[0m\u001b[0;34m\u001b[0m\u001b[0;34m\u001b[0m\u001b[0m\n\u001b[1;32m      3\u001b[0m \u001b[0;32mfrom\u001b[0m \u001b[0mtrain\u001b[0m \u001b[0;32mimport\u001b[0m \u001b[0mhyp\u001b[0m\u001b[0;34m\u001b[0m\u001b[0;34m\u001b[0m\u001b[0m\n\u001b[1;32m      4\u001b[0m \u001b[0;32mfrom\u001b[0m \u001b[0mutils\u001b[0m \u001b[0;32mimport\u001b[0m \u001b[0mtorch_utils\u001b[0m\u001b[0;34m\u001b[0m\u001b[0;34m\u001b[0m\u001b[0m\n\u001b[1;32m      5\u001b[0m \u001b[0;32mfrom\u001b[0m \u001b[0mutils\u001b[0m\u001b[0;34m.\u001b[0m\u001b[0mutils\u001b[0m \u001b[0;32mimport\u001b[0m \u001b[0mcompute_loss\u001b[0m\u001b[0;34m,\u001b[0m \u001b[0mbuild_targets\u001b[0m\u001b[0;34m\u001b[0m\u001b[0;34m\u001b[0m\u001b[0m\n",
      "\u001b[0;32m~/workspace/yolov3/fastai.py\u001b[0m in \u001b[0;36m<module>\u001b[0;34m\u001b[0m\n\u001b[1;32m      4\u001b[0m \u001b[0;32mfrom\u001b[0m \u001b[0mutils\u001b[0m \u001b[0;32mimport\u001b[0m \u001b[0mtorch_utils\u001b[0m\u001b[0;34m\u001b[0m\u001b[0;34m\u001b[0m\u001b[0m\n\u001b[1;32m      5\u001b[0m \u001b[0;32mfrom\u001b[0m \u001b[0mutils\u001b[0m\u001b[0;34m.\u001b[0m\u001b[0mutils\u001b[0m \u001b[0;32mimport\u001b[0m \u001b[0mcompute_loss\u001b[0m\u001b[0;34m,\u001b[0m \u001b[0mbuild_targets\u001b[0m\u001b[0;34m\u001b[0m\u001b[0;34m\u001b[0m\u001b[0m\n\u001b[0;32m----> 6\u001b[0;31m \u001b[0;32mfrom\u001b[0m \u001b[0mfastai\u001b[0m\u001b[0;34m.\u001b[0m\u001b[0mvision\u001b[0m \u001b[0;32mimport\u001b[0m \u001b[0;34m*\u001b[0m\u001b[0;34m\u001b[0m\u001b[0;34m\u001b[0m\u001b[0m\n\u001b[0m\u001b[1;32m      7\u001b[0m \u001b[0;34m\u001b[0m\u001b[0m\n\u001b[1;32m      8\u001b[0m \u001b[0;31m# Download and untar data\u001b[0m\u001b[0;34m\u001b[0m\u001b[0;34m\u001b[0m\u001b[0;34m\u001b[0m\u001b[0m\n",
      "\u001b[0;31mModuleNotFoundError\u001b[0m: No module named 'fastai.vision'; 'fastai' is not a package"
     ]
    }
   ],
   "source": [
    "from fastai.vision import *\n",
    "from models import Darknet\n",
    "from train import hyp\n",
    "from utils import torch_utils\n",
    "from utils.utils import compute_loss, build_targets\n"
   ]
  },
  {
   "cell_type": "code",
   "execution_count": null,
   "metadata": {
    "pycharm": {
     "is_executing": false
    }
   },
   "outputs": [],
   "source": [
    "# Download and untar data\n",
    "# https://github.com/cedrickchee/knowledge/blob/master/courses/fast.ai/deep-learning-part-2/2018-edition/lesson-8-object-detection.md\n",
    "voc2007 = untar_data(URLs.PASCAL_2007)\n",
    "voc2012 = untar_data(URLs.PASCAL_2012)"
   ]
  },
  {
   "cell_type": "code",
   "execution_count": null,
   "metadata": {
    "pycharm": {
     "is_executing": false,
     "name": "#%%\n"
    }
   },
   "outputs": [],
   "source": [
    "# Load images and annotations\n",
    "# https://pjreddie.com/darknet/yolo/#train-voc\n",
    "files = [\n",
    "    voc2007 / 'train.json', \n",
    "    voc2007 / 'valid.json',\n",
    "    voc2007 / 'test.json',\n",
    "    voc2012 / 'train.json', \n",
    "    voc2012 / 'valid.json'\n",
    "    ]\n",
    "jsons = [(it, json.load(it.open())) for it in files]\n",
    "images = [{**img, 'file': fn} for (fn, json) in jsons for img in json[\"images\"]]\n",
    "images = { i[\"id\"] : i for i in images }\n",
    "annotations = [item for (fn, json) in jsons for item in json[\"annotations\"]]\n",
    "f\"{len(images)}; {len(annotations)}\""
   ]
  },
  {
   "cell_type": "code",
   "execution_count": null,
   "metadata": {
    "pycharm": {
     "is_executing": false,
     "name": "#%%\n"
    }
   },
   "outputs": [],
   "source": [
    "# Normalize data, slap annotations onto images to which they belong\n",
    "for anno in annotations:\n",
    "    image = images[anno['image_id']]\n",
    "    image.setdefault('annotations', []).append(anno)\n"
   ]
  },
  {
   "cell_type": "code",
   "execution_count": null,
   "metadata": {
    "pycharm": {
     "is_executing": false,
     "name": "#%%\n"
    }
   },
   "outputs": [],
   "source": [
    "# Find the 1 category we care about\n",
    "person_cat = [it for it in jsons[0][1][\"categories\"] if it[\"name\"] == \"person\"][0][\"id\"]\n",
    "person_cat"
   ]
  },
  {
   "cell_type": "code",
   "execution_count": null,
   "metadata": {
    "pycharm": {
     "is_executing": false,
     "name": "#%%        \n"
    }
   },
   "outputs": [],
   "source": [
    "# Build lists of positive and negative samples\n",
    "def has_person(img): \n",
    "    return [] != [a for a in img['annotations'] if a['category_id'] == person_cat]\n",
    "positive_samp = [img for img in images.values() if has_person(img)]\n",
    "negative_samp = [img for img in images.values() if not has_person(img)]\n",
    "f\"{len(positive_samp)}; {len(negative_samp)}\""
   ]
  },
  {
   "cell_type": "code",
   "execution_count": null,
   "metadata": {
    "pycharm": {
     "is_executing": false,
     "name": "#%%\n"
    }
   },
   "outputs": [],
   "source": [
    "# Truncate negative samples to be roughly same length as positive\n",
    "negative_samp = negative_samp[:len(positive_samp)]\n",
    "len(negative_samp)"
   ]
  },
  {
   "cell_type": "code",
   "execution_count": null,
   "metadata": {
    "pycharm": {
     "is_executing": false,
     "name": "#%%\n"
    }
   },
   "outputs": [],
   "source": [
    "# Combine sample sets back together\n",
    "samples = positive_samp #+ negative_samp"
   ]
  },
  {
   "cell_type": "code",
   "execution_count": null,
   "metadata": {
    "pycharm": {
     "is_executing": false,
     "name": "#%%\n"
    }
   },
   "outputs": [],
   "source": [
    "# Build the paths and pass them to the FastAI ObjectItemList\n",
    "def get_folder(f):\n",
    "    if 'train' in str(f) or 'valid' in str(f): return 'train'\n",
    "    return 'test'\n",
    "def make_path(p):\n",
    "    return p['file'].parent / get_folder(p['file']) / p['file_name']\n",
    "posix_paths = [make_path(p) for p in samples]\n",
    "# lst = ImageList(posix_paths)\n",
    "lst = ObjectItemList(posix_paths)"
   ]
  },
  {
   "cell_type": "code",
   "execution_count": null,
   "metadata": {
    "pycharm": {
     "is_executing": false,
     "name": "#%%\n"
    }
   },
   "outputs": [],
   "source": [
    "# Build a HashSet of validation files so we can quickly split later\n",
    "def split_func(sample):\n",
    "    return '2007' in str(sample['file'].parent) and 'test' in str(sample['file'])\n",
    "valid = set()\n",
    "for sample in samples:\n",
    "    if split_func(sample):\n",
    "        valid.add(make_path(sample))\n",
    "len(valid)"
   ]
  },
  {
   "cell_type": "code",
   "execution_count": null,
   "metadata": {
    "pycharm": {
     "is_executing": false,
     "name": "#%%\n"
    }
   },
   "outputs": [],
   "source": [
    "# Create function for FastAI to get labels\n",
    "# https://github.com/cedrickchee/knowledge/blob/master/courses/fast.ai/deep-learning-part-2/2018-edition/lesson-8-object-detection.md#convert-vocs-bounding-box\n",
    "def hw_bb(bb):\n",
    "    return np.array([ bb[1], bb[0], bb[3] + bb[1] - 1, bb[2] + bb[0] - 1 ])\n",
    "def filename_to_key(filename):\n",
    "    trunk = os.path.splitext(filename)[0]\n",
    "    txt = trunk.replace(\"_\", \"\")\n",
    "    id = int(txt)\n",
    "    return id\n",
    "def get_y_func(path):\n",
    "    key = filename_to_key(path.name)\n",
    "    image = images[key]\n",
    "    boxes = [hw_bb(a['bbox']) for a in image['annotations'] if a['category_id'] == person_cat]\n",
    "    classes = ['person'] * len(boxes)\n",
    "    return [boxes, classes]"
   ]
  },
  {
   "cell_type": "code",
   "execution_count": null,
   "metadata": {
    "pycharm": {
     "is_executing": false,
     "name": "#%%\n"
    }
   },
   "outputs": [],
   "source": [
    "# Turn all this into a FastAI DataBunch so we can train\n",
    "data = (lst\n",
    "        .split_by_valid_func(lambda it: it in valid)                          \n",
    "        .label_from_func(get_y_func)\n",
    "        .transform(\n",
    "            get_transforms(), \n",
    "            tfm_y=True, \n",
    "            size=(352, 608),\n",
    "            resize_method=ResizeMethod.PAD,\n",
    "            padding_mode = 'border'\n",
    "        )\n",
    "        .databunch(bs=16, collate_fn=bb_pad_collate))   "
   ]
  },
  {
   "cell_type": "code",
   "execution_count": null,
   "metadata": {
    "pycharm": {
     "is_executing": false,
     "name": "#%%\n"
    }
   },
   "outputs": [],
   "source": [
    "# Show the images so we can visually validate\n",
    "data.show_batch(rows=2, ds_type=DatasetType.Valid, figsize=(8,8))\n"
   ]
  },
  {
   "cell_type": "code",
   "execution_count": null,
   "metadata": {
    "pycharm": {
     "is_executing": false,
     "name": "#%%\n"
    }
   },
   "outputs": [],
   "source": [
    "# Load the model\n",
    "device = 'cpu' # 'cuda:0'\n",
    "arc = 'default'\n",
    "cfg = 'cfg/yolov3-tiny-anchors.cfg'\n",
    "device = torch_utils.select_device(device, apex=False, batch_size=64)\n",
    "model = Darknet(cfg, arc=arc).to(device)\n",
    "model.arc = 'default'\n",
    "model.nc = 1  # num classes\n",
    "model.hyp = hyp\n",
    "device"
   ]
  },
  {
   "cell_type": "code",
   "execution_count": null,
   "metadata": {
    "pycharm": {
     "is_executing": false,
     "name": "#%%\n"
    }
   },
   "outputs": [],
   "source": [
    "# Define a custom loss function that translate between FastAI and Ultralytics\n",
    "def loss_func(predicted, boxes, classes):\n",
    "    targets = []\n",
    "    bs = classes.shape[0]\n",
    "    max_detections = classes.shape[1]\n",
    "    for img_idx in range(bs):\n",
    "        for detect_idx in range(max_detections):\n",
    "            clazz = classes[img_idx, detect_idx]\n",
    "            if clazz == 0: continue\n",
    "            x, y, w, h = boxes[img_idx, detect_idx]\n",
    "            targets.append([img_idx, float(clazz), float(x), float(y), float(w), float(h)])\n",
    "    ft = torch.cuda.FloatTensor if predicted[0].is_cuda else torch.Tensor\n",
    "    targets = ft(targets)\n",
    "#     predicted = ft(predicted)\n",
    "#     print(f\"pred={predicted.shape}\") \n",
    "    print(f\"target={targets.shape}\")\n",
    "    # targets = build_targets(model, targets)\n",
    "    loss = compute_loss(predicted, targets, model)\n",
    "    return loss"
   ]
  },
  {
   "cell_type": "code",
   "execution_count": null,
   "metadata": {
    "pycharm": {
     "is_executing": false,
     "name": "#%%\n"
    }
   },
   "outputs": [],
   "source": [
    "# Finally we have everything we need to make a learner\n",
    "learner = Learner(data, model, loss_func=loss_func)"
   ]
  },
  {
   "cell_type": "code",
   "execution_count": null,
   "metadata": {
    "pycharm": {
     "is_executing": false,
     "name": "#%%\n"
    }
   },
   "outputs": [],
   "source": [
    "# Train the learner for 1 epoch\n",
    "learner.fit(1)"
   ]
  },
  {
   "cell_type": "code",
   "execution_count": null,
   "metadata": {
    "pycharm": {
     "is_executing": false
    }
   },
   "outputs": [],
   "source": []
  }
 ],
 "metadata": {
  "kernelspec": {
   "display_name": "PyCharm (yolov3)",
   "language": "python",
   "name": "pycharm-f5b84ff8"
  },
  "language_info": {
   "codemirror_mode": {
    "name": "ipython",
    "version": 3
   },
   "file_extension": ".py",
   "mimetype": "text/x-python",
   "name": "python",
   "nbconvert_exporter": "python",
   "pygments_lexer": "ipython3",
   "version": "3.7.5"
  },
  "pycharm": {
   "stem_cell": {
    "cell_type": "raw",
    "metadata": {
     "collapsed": false
    },
    "source": []
   }
  }
 },
 "nbformat": 4,
 "nbformat_minor": 1
}
